{
  "nbformat": 4,
  "nbformat_minor": 0,
  "metadata": {
    "colab": {
      "name": "Data_analysis_and_visualisation_20200810_v01.ipynb",
      "provenance": [],
      "collapsed_sections": [],
      "mount_file_id": "1l8ZSug4Uc35y826R0_ktv4CNl7d8re0m",
      "authorship_tag": "ABX9TyNKoh24PYWS8D4kS92G40CJ",
      "include_colab_link": true
    },
    "kernelspec": {
      "name": "python3",
      "display_name": "Python 3"
    }
  },
  "cells": [
    {
      "cell_type": "markdown",
      "metadata": {
        "id": "view-in-github",
        "colab_type": "text"
      },
      "source": [
        "<a href=\"https://colab.research.google.com/github/rbanerjee919/CDAC_work/blob/main/Data_analysis_and_visualisation_20200810_v01.ipynb\" target=\"_parent\"><img src=\"https://colab.research.google.com/assets/colab-badge.svg\" alt=\"Open In Colab\"/></a>"
      ]
    },
    {
      "cell_type": "code",
      "metadata": {
        "id": "lnakzQ8JES-a"
      },
      "source": [
        "#Modules for data analysis\n",
        "import numpy as np\n",
        "import pandas as pd\n",
        "from sklearn.metrics import r2_score \n",
        "from scipy.stats import chi2_contingency, spearmanr"
      ],
      "execution_count": null,
      "outputs": []
    },
    {
      "cell_type": "code",
      "metadata": {
        "id": "mwH8ztjZEceZ"
      },
      "source": [
        "#Modules for reading and wrting data\n",
        "import csv"
      ],
      "execution_count": null,
      "outputs": []
    },
    {
      "cell_type": "code",
      "metadata": {
        "id": "ZNYTmDsdvO2x",
        "colab": {
          "base_uri": "https://localhost:8080/",
          "height": 71
        },
        "outputId": "eedf786b-8220-406a-dfb5-760fe16a200e"
      },
      "source": [
        "#Modules for plotting and data visulisation\n",
        "import matplotlib.pyplot as plt\n",
        "#Not sure if it will be used but imported in case required\n",
        "import seaborn as sns\n",
        "\n",
        "%matplotlib inline"
      ],
      "execution_count": null,
      "outputs": [
        {
          "output_type": "stream",
          "text": [
            "/usr/local/lib/python3.6/dist-packages/statsmodels/tools/_testing.py:19: FutureWarning: pandas.util.testing is deprecated. Use the functions in the public API at pandas.testing instead.\n",
            "  import pandas.util.testing as tm\n"
          ],
          "name": "stderr"
        }
      ]
    },
    {
      "cell_type": "code",
      "metadata": {
        "id": "pXP43tWOfR4K"
      },
      "source": [
        "#Create some dictionaries and lists\n",
        "responses = {}\n",
        "fidelity_ratings = {}\n",
        "intelligibility_ratings = {}\n",
        "fidelity_avg_ratings = {}\n",
        "within_q_fidelity_avg_ratings = []\n",
        "fidelity_std_ratings = {}\n",
        "within_q_fidelity_std_ratings = []\n",
        "intelligibility_avg_ratings = {}\n",
        "within_q_intelligibility_avg_ratings = []\n",
        "intelligibility_std_ratings = {}\n",
        "within_q_intelligibility_std_ratings = []\n",
        "complexity_ratings = []"
      ],
      "execution_count": null,
      "outputs": []
    },
    {
      "cell_type": "code",
      "metadata": {
        "id": "7Ajxl3sqfWSm"
      },
      "source": [
        "#Use csv to open and read the contents of the file\n",
        "with open('/content/drive/My Drive/Colab Notebooks/2020_Intern_12__T​RI01_Comp/2020_08-03_2020_Intern_12_TRI01_Comp_Parameter.csv') as csv_file:\n",
        "    csv_read = csv.reader(csv_file,delimiter=',')\n",
        "    for i,row in enumerate(csv_read):\n",
        "        responses[str(i)] = row"
      ],
      "execution_count": null,
      "outputs": []
    },
    {
      "cell_type": "code",
      "metadata": {
        "id": "snOuoiqHf2Cb"
      },
      "source": [
        "#Checking\n",
        "#print(responses)"
      ],
      "execution_count": null,
      "outputs": []
    },
    {
      "cell_type": "code",
      "metadata": {
        "id": "nlZHQ1jef5P0"
      },
      "source": [
        "#Store fidelity ratings\n",
        "for i in responses:\n",
        "    #First two rows are commas and qeustions (not ratings)\n",
        "    if (int(i) < 2):\n",
        "        pass\n",
        "    else:\n",
        "        fidelity_ratings[str(int(i)-2)] = responses[i][:6]\n",
        "\n"
      ],
      "execution_count": null,
      "outputs": []
    },
    {
      "cell_type": "code",
      "metadata": {
        "id": "7j5b_ZUXjyFX"
      },
      "source": [
        "#Checking\n",
        "#print(fidelity_ratings)"
      ],
      "execution_count": null,
      "outputs": []
    },
    {
      "cell_type": "code",
      "metadata": {
        "id": "aV5DcQsbj3wK"
      },
      "source": [
        "#Store intelligiblity ratings\n",
        "for i in responses:\n",
        "    #First two rows are commas and qeustions (not ratings)\n",
        "    if (int(i) < 2):\n",
        "        pass\n",
        "    else:\n",
        "        intelligibility_ratings[str(int(i)-2)] = responses[i][6:9]\n"
      ],
      "execution_count": null,
      "outputs": []
    },
    {
      "cell_type": "code",
      "metadata": {
        "id": "rO94wfuSkJhW"
      },
      "source": [
        "#Checking\n",
        "#print(intelligibility_ratings)"
      ],
      "execution_count": null,
      "outputs": []
    },
    {
      "cell_type": "code",
      "metadata": {
        "id": "oUeoAlP7kL4S"
      },
      "source": [
        "#Store complexity ratings\n",
        "for i in responses:\n",
        "    #First two rows are commas and qeustions (not ratings)\n",
        "    if (int(i) < 2):\n",
        "        pass\n",
        "    else:\n",
        "        complexity_ratings.append(int(responses[i][9]))"
      ],
      "execution_count": null,
      "outputs": []
    },
    {
      "cell_type": "code",
      "metadata": {
        "id": "v6mQihSMkPw9"
      },
      "source": [
        "#Checking\n",
        "#print(complexity_ratings)"
      ],
      "execution_count": null,
      "outputs": []
    },
    {
      "cell_type": "code",
      "metadata": {
        "id": "OBAWNyS5kUvk",
        "colab": {
          "base_uri": "https://localhost:8080/",
          "height": 34
        },
        "outputId": "a312fe84-b29a-41f0-9d98-54ec48a49b06"
      },
      "source": [
        "#Compute the mean and standard deviation of the complexity ratings\n",
        "complexity_mean = np.mean(complexity_ratings)\n",
        "complexity_std = np.std(complexity_ratings)\n",
        "print(\"Overall complexity avg and std dev: %f and %f\"  %(complexity_mean,complexity_std))"
      ],
      "execution_count": null,
      "outputs": [
        {
          "output_type": "stream",
          "text": [
            "Overall complexity avg and std dev: 1.067515 and 0.867065\n"
          ],
          "name": "stdout"
        }
      ]
    },
    {
      "cell_type": "code",
      "metadata": {
        "id": "yI76tJfzmAFM"
      },
      "source": [
        "#Currently, ratings are strings which are not very useful to work with - convert to int\n",
        "\n",
        "for key in fidelity_ratings:\n",
        "    fidelity_ratings[key] = [int(i) for i in fidelity_ratings[key]]\n",
        "\n",
        "for key in intelligibility_ratings:\n",
        "    intelligibility_ratings[key] = [int(i) for i in intelligibility_ratings[key]]\n",
        "\n",
        "\n",
        "#Checking\n",
        "#print(fidelity_ratings)\n",
        "#print(intelligibility_ratings)"
      ],
      "execution_count": null,
      "outputs": []
    },
    {
      "cell_type": "code",
      "metadata": {
        "id": "PCYlJuw76DbV"
      },
      "source": [
        "#The next section deals with per question averages and standard deviations"
      ],
      "execution_count": null,
      "outputs": []
    },
    {
      "cell_type": "code",
      "metadata": {
        "id": "EPELa_xZoWqQ"
      },
      "source": [
        "#The following code is used to find the avg per question fidelity and intelligibility ratings\n",
        "for key in fidelity_ratings:\n",
        "    fidelity_avg_ratings[key] = np.mean(fidelity_ratings[key])\n",
        "\n",
        "for key in intelligibility_ratings:\n",
        "    intelligibility_avg_ratings[key] = np.mean(intelligibility_ratings[key])\n",
        "\n",
        "#Checking\n",
        "#print(fidelity_avg_ratings)\n",
        "#print(intelligibility_avg_ratings)"
      ],
      "execution_count": null,
      "outputs": []
    },
    {
      "cell_type": "code",
      "metadata": {
        "id": "27IH1a1RzqWG"
      },
      "source": [
        "#The following code is used to find the standard deviation per question fidelity and intelligibility ratings\n",
        "for key in fidelity_ratings:\n",
        "    fidelity_std_ratings[key] = np.std(fidelity_ratings[key])\n",
        "\n",
        "for key in intelligibility_ratings:\n",
        "    intelligibility_std_ratings[key] = np.std(intelligibility_ratings[key])\n",
        "\n",
        "#Checking\n",
        "#print(fidelity_std_ratings)\n",
        "#print(intelligibility_std_ratings)"
      ],
      "execution_count": null,
      "outputs": []
    },
    {
      "cell_type": "code",
      "metadata": {
        "id": "V3VUzg1orAak",
        "colab": {
          "base_uri": "https://localhost:8080/",
          "height": 34
        },
        "outputId": "75b1fa42-95f7-4563-d97e-1116f64b742b"
      },
      "source": [
        "#Overall mean to match reported ones (they don't match because qeustions mislabelled - easy fix though - change :6 and 6:9 to :3 and 3:9 in which case they do match)\n",
        "overall_fidelity_avg = np.mean([fidelity_avg_ratings[i] for i in fidelity_avg_ratings])\n",
        "overall_intelligibility_avg = np.mean([intelligibility_avg_ratings[i] for i in intelligibility_avg_ratings])\n",
        "\n",
        "print(\"Overall fidelity and intelligibility avgs: %f and %f\"  %(overall_fidelity_avg, overall_intelligibility_avg))"
      ],
      "execution_count": null,
      "outputs": [
        {
          "output_type": "stream",
          "text": [
            "Overall fidelity and intelligibility avgs: 3.022831 and 2.918134\n"
          ],
          "name": "stdout"
        }
      ]
    },
    {
      "cell_type": "code",
      "metadata": {
        "id": "GHWBMhGYrqLg",
        "colab": {
          "base_uri": "https://localhost:8080/",
          "height": 34
        },
        "outputId": "d2f9a2a6-4389-442a-8e0a-9290aaddb727"
      },
      "source": [
        "#Overall std to match reported ones (same issue and solution)\n",
        "overall_fidelity_std = np.mean([fidelity_std_ratings[i] for i in fidelity_std_ratings])\n",
        "overall_intelligibility_std = np.mean([intelligibility_std_ratings[i] for i in intelligibility_std_ratings])\n",
        "\n",
        "print(\"Overall fidelity and intelligibility std devs: %f and %f\"  %(overall_fidelity_std, overall_intelligibility_std))"
      ],
      "execution_count": null,
      "outputs": [
        {
          "output_type": "stream",
          "text": [
            "Overall fidelity and intelligibility std devs: 0.376272 and 0.523772\n"
          ],
          "name": "stdout"
        }
      ]
    },
    {
      "cell_type": "code",
      "metadata": {
        "id": "NMOii5hqLhoR"
      },
      "source": [
        ""
      ],
      "execution_count": null,
      "outputs": []
    }
  ]
}